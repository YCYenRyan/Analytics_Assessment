{
 "cells": [
  {
   "cell_type": "code",
   "execution_count": 1,
   "id": "d8ffa61c",
   "metadata": {},
   "outputs": [],
   "source": [
    "import re\n",
    "import matplotlib.pyplot as plt\n",
    "import seaborn as sns\n",
    "from scipy.stats import shapiro\n",
    "from scipy.stats import kurtosis "
   ]
  },
  {
   "cell_type": "code",
   "execution_count": 2,
   "id": "1a29e8b6",
   "metadata": {},
   "outputs": [],
   "source": [
    "text = \"As a term, data analytics predominantly refers to an assortment of applications, from basic business intelligence (BI), reporting and online analytical processing (OLAP) to various forms of advanced analytics. In that sense, it's similar in nature to business analytics, another umbrella term for approaches to analyzing data -- with the difference that the latter is oriented to business uses, while data analytics has a broader focus. The expansive view of the term isn't universal, though: In some cases, people use data analytics specifically to mean advanced analytics, treating BI as a separate category. Data analytics initiatives can help businesses increase revenues, improve operational efficiency, optimize marketing campaigns and customer service efforts, respond more quickly to emerging market trends and gain a competitive edge over rivals -- all with the ultimate goal of boosting business performance. Depending on the particular application, the data that's analyzed can consist of either historical records or new information that has been processed for real-time analytics uses. In addition, it can come from a mix of internal systems and external data sources. At a high level, data analytics methodologies include exploratory data analysis (EDA), which aims to find patterns and relationships in data, and confirmatory data analysis (CDA), which applies statistical techniques to determine whether hypotheses about a data set are true or false. EDA is often compared to detective work, while CDA is akin to the work of a judge or jury during a court trial -- a distinction first drawn by statistician John W. Tukey in his 1977 book Exploratory Data Analysis. Data analytics can also be separated into quantitative data analysis and qualitative data analysis. The former involves analysis of numerical data with quantifiable variables that can be compared or measured statistically. The qualitative approach is more interpretive -- it focuses on understanding the content of non-numerical data like text, images, audio and video, including common phrases, themes and points of view.\""
   ]
  },
  {
   "cell_type": "code",
   "execution_count": 3,
   "id": "84938c5f",
   "metadata": {},
   "outputs": [
    {
     "name": "stdout",
     "output_type": "stream",
     "text": [
      "As a term, data analytics predominantly refers to an assortment of applications, from basic business intelligence (BI), reporting and online analytical processing (OLAP) to various forms of advanced analytics. In that sense, it's similar in nature to business analytics, another umbrella term for approaches to analyzing data -- with the difference that the latter is oriented to business uses, while data analytics has a broader focus. The expansive view of the term isn't universal, though: In some cases, people use data analytics specifically to mean advanced analytics, treating BI as a separate category. Data analytics initiatives can help businesses increase revenues, improve operational efficiency, optimize marketing campaigns and customer service efforts, respond more quickly to emerging market trends and gain a competitive edge over rivals -- all with the ultimate goal of boosting business performance. Depending on the particular application, the data that's analyzed can consist of either historical records or new information that has been processed for real-time analytics uses. In addition, it can come from a mix of internal systems and external data sources. At a high level, data analytics methodologies include exploratory data analysis (EDA), which aims to find patterns and relationships in data, and confirmatory data analysis (CDA), which applies statistical techniques to determine whether hypotheses about a data set are true or false. EDA is often compared to detective work, while CDA is akin to the work of a judge or jury during a court trial -- a distinction first drawn by statistician John W. Tukey in his 1977 book Exploratory Data Analysis. Data analytics can also be separated into quantitative data analysis and qualitative data analysis. The former involves analysis of numerical data with quantifiable variables that can be compared or measured statistically. The qualitative approach is more interpretive -- it focuses on understanding the content of non-numerical data like text, images, audio and video, including common phrases, themes and points of view.\n"
     ]
    }
   ],
   "source": [
    "print(text)"
   ]
  },
  {
   "cell_type": "markdown",
   "id": "927b09cc",
   "metadata": {},
   "source": [
    "## a. What is the probability of the word \"data\" occuring in each line?\n",
    "I will first convert the text to lowerstring so that I can retrieve all instances of the word 'data'"
   ]
  },
  {
   "cell_type": "code",
   "execution_count": 4,
   "id": "f94b6755",
   "metadata": {},
   "outputs": [],
   "source": [
    "text = text.lower()\n",
    "# print(text)"
   ]
  },
  {
   "cell_type": "markdown",
   "id": "e17aa822",
   "metadata": {},
   "source": [
    "I take it that line in this case refers to a complete sentence, so I split the text by a full stop, question mark, or exclamation mark followed by a space to get each sentence. "
   ]
  },
  {
   "cell_type": "code",
   "execution_count": 5,
   "id": "c3c500cb",
   "metadata": {},
   "outputs": [],
   "source": [
    "sentences = re.split(r'[?.!]\\s', text)\n"
   ]
  },
  {
   "cell_type": "code",
   "execution_count": 6,
   "id": "c03b3889",
   "metadata": {},
   "outputs": [
    {
     "name": "stdout",
     "output_type": "stream",
     "text": [
      "1  :  as a term, data analytics predominantly refers to an assortment of applications, from basic business intelligence (bi), reporting and online analytical processing (olap) to various forms of advanced analytics \n",
      "\n",
      "2  :  in that sense, it's similar in nature to business analytics, another umbrella term for approaches to analyzing data -- with the difference that the latter is oriented to business uses, while data analytics has a broader focus \n",
      "\n",
      "3  :  the expansive view of the term isn't universal, though: in some cases, people use data analytics specifically to mean advanced analytics, treating bi as a separate category \n",
      "\n",
      "4  :  data analytics initiatives can help businesses increase revenues, improve operational efficiency, optimize marketing campaigns and customer service efforts, respond more quickly to emerging market trends and gain a competitive edge over rivals -- all with the ultimate goal of boosting business performance \n",
      "\n",
      "5  :  depending on the particular application, the data that's analyzed can consist of either historical records or new information that has been processed for real-time analytics uses \n",
      "\n",
      "6  :  in addition, it can come from a mix of internal systems and external data sources \n",
      "\n",
      "7  :  at a high level, data analytics methodologies include exploratory data analysis (eda), which aims to find patterns and relationships in data, and confirmatory data analysis (cda), which applies statistical techniques to determine whether hypotheses about a data set are true or false \n",
      "\n",
      "8  :  eda is often compared to detective work, while cda is akin to the work of a judge or jury during a court trial -- a distinction first drawn by statistician john w \n",
      "\n",
      "9  :  tukey in his 1977 book exploratory data analysis \n",
      "\n",
      "10  :  data analytics can also be separated into quantitative data analysis and qualitative data analysis \n",
      "\n",
      "11  :  the former involves analysis of numerical data with quantifiable variables that can be compared or measured statistically \n",
      "\n",
      "12  :  the qualitative approach is more interpretive -- it focuses on understanding the content of non-numerical data like text, images, audio and video, including common phrases, themes and points of view. \n",
      "\n"
     ]
    }
   ],
   "source": [
    "#view split sentences\n",
    "index = 1\n",
    "for x in sentences:\n",
    "    print(index, \" : \", x, \"\\n\")\n",
    "    index += 1"
   ]
  },
  {
   "cell_type": "markdown",
   "id": "b707abdb",
   "metadata": {},
   "source": [
    "We've split the text by sentence ending delimiters like full stops and question marks, but this also created unintended splits like the text \"John W. Tukey\" being split into two. Regardless, we can continue to count the number of times the word data appeared in each sentence"
   ]
  },
  {
   "cell_type": "code",
   "execution_count": 7,
   "id": "e0017af8",
   "metadata": {},
   "outputs": [
    {
     "name": "stdout",
     "output_type": "stream",
     "text": [
      "The word 'data' appeared in  11  sentences.\n",
      "Probability of 'data' appearing in a sentence is  0.9166666666666666  percent\n"
     ]
    }
   ],
   "source": [
    "#count number of times data appears in list of sentences\n",
    "print(\"The word 'data' appeared in \", ['data' in x for x in sentences].count(True), \" sentences.\")\n",
    "print(\"Probability of 'data' appearing in a sentence is \", (['data' in x for x in sentences].count(True)/len(sentences)), \" percent\")"
   ]
  },
  {
   "cell_type": "markdown",
   "id": "bf21ab41",
   "metadata": {},
   "source": [
    "## b. What is the distribution of distinct word counts across all the lines?\n",
    "I'll count the number of distinct words in each line and plot the distribution. I use regex to only obtain alphabetical or numerical substrings to eliminate substrings in the sentences that aren't words"
   ]
  },
  {
   "cell_type": "code",
   "execution_count": 8,
   "id": "0d738ff8",
   "metadata": {},
   "outputs": [
    {
     "name": "stdout",
     "output_type": "stream",
     "text": [
      "Sentence:  as a term, data analytics predominantly refers to an assortment of applications, from basic business intelligence (bi), reporting and online analytical processing (olap) to various forms of advanced analytics \n",
      "Distinct words:  {'business', 'online', 'applications', 'various', 'analytical', 'forms', 'advanced', 'term', 'processing', 'as', 'a', 'predominantly', 'analytics', 'intelligence', 'data', 'from', 'basic', 'of', 'to', 'assortment', 'olap', 'and', 'bi', 'refers', 'an', 'reporting'} \n",
      "\n",
      "Sentence:  in that sense, it's similar in nature to business analytics, another umbrella term for approaches to analyzing data -- with the difference that the latter is oriented to business uses, while data analytics has a broader focus \n",
      "Distinct words:  {'business', 'broader', 'for', 'term', 'approaches', 'that', 'while', 'a', 'analytics', 'the', 'oriented', 'focus', 'analyzing', 'with', 'umbrella', 'is', 'difference', 'another', 'data', 'it', 'latter', 'sense', 'in', 'has', 'to', 's', 'nature', 'uses', 'similar'} \n",
      "\n",
      "Sentence:  the expansive view of the term isn't universal, though: in some cases, people use data analytics specifically to mean advanced analytics, treating bi as a separate category \n",
      "Distinct words:  {'separate', 'some', 'expansive', 'use', 'advanced', 'term', 'mean', 'as', 'treating', 'a', 't', 'analytics', 'the', 'though', 'data', 'universal', 'in', 'view', 'isn', 'of', 'to', 'category', 'people', 'bi', 'cases', 'specifically'} \n",
      "\n",
      "Sentence:  data analytics initiatives can help businesses increase revenues, improve operational efficiency, optimize marketing campaigns and customer service efforts, respond more quickly to emerging market trends and gain a competitive edge over rivals -- all with the ultimate goal of boosting business performance \n",
      "Distinct words:  {'business', 'emerging', 'efforts', 'edge', 'respond', 'improve', 'ultimate', 'all', 'goal', 'rivals', 'revenues', 'campaigns', 'optimize', 'a', 'analytics', 'the', 'can', 'competitive', 'gain', 'with', 'initiatives', 'service', 'over', 'data', 'boosting', 'quickly', 'help', 'more', 'of', 'marketing', 'to', 'businesses', 'trends', 'and', 'market', 'operational', 'efficiency', 'customer', 'performance', 'increase'} \n",
      "\n",
      "Sentence:  depending on the particular application, the data that's analyzed can consist of either historical records or new information that has been processed for real-time analytics uses \n",
      "Distinct words:  {'consist', 'on', 'or', 'for', 'new', 'been', 'that', 'analyzed', 'the', 'can', 'historical', 'analytics', 'particular', 'either', 'information', 'depending', 'data', 'time', 'real', 'records', 'processed', 'has', 'application', 'of', 's', 'uses'} \n",
      "\n",
      "Sentence:  in addition, it can come from a mix of internal systems and external data sources \n",
      "Distinct words:  {'of', 'a', 'data', 'can', 'come', 'and', 'internal', 'it', 'sources', 'external', 'in', 'from', 'systems', 'addition', 'mix'} \n",
      "\n",
      "Sentence:  at a high level, data analytics methodologies include exploratory data analysis (eda), which aims to find patterns and relationships in data, and confirmatory data analysis (cda), which applies statistical techniques to determine whether hypotheses about a data set are true or false \n",
      "Distinct words:  {'confirmatory', 'or', 'level', 'analysis', 'high', 'aims', 'a', 'cda', 'analytics', 'methodologies', 'applies', 'patterns', 'include', 'at', 'relationships', 'determine', 'true', 'data', 'set', 'are', 'exploratory', 'eda', 'in', 'techniques', 'about', 'whether', 'false', 'to', 'and', 'statistical', 'hypotheses', 'which', 'find'} \n",
      "\n",
      "Sentence:  eda is often compared to detective work, while cda is akin to the work of a judge or jury during a court trial -- a distinction first drawn by statistician john w \n",
      "Distinct words:  {'john', 'detective', 'by', 'or', 'first', 'statistician', 'while', 'cda', 'a', 'often', 'the', 'akin', 'judge', 'trial', 'is', 'compared', 'drawn', 'court', 'eda', 'of', 'to', 'during', 'w', 'work', 'distinction', 'jury'} \n",
      "\n",
      "Sentence:  tukey in his 1977 book exploratory data analysis \n",
      "Distinct words:  {'data', 'book', 'his', 'in', 'exploratory', 'analysis', 'tukey', '1977'} \n",
      "\n",
      "Sentence:  data analytics can also be separated into quantitative data analysis and qualitative data analysis \n",
      "Distinct words:  {'data', 'analytics', 'into', 'can', 'and', 'qualitative', 'quantitative', 'be', 'also', 'analysis', 'separated'} \n",
      "\n",
      "Sentence:  the former involves analysis of numerical data with quantifiable variables that can be compared or measured statistically \n",
      "Distinct words:  {'of', 'former', 'compared', 'data', 'the', 'involves', 'with', 'can', 'variables', 'quantifiable', 'statistically', 'numerical', 'or', 'be', 'measured', 'analysis', 'that'} \n",
      "\n",
      "Sentence:  the qualitative approach is more interpretive -- it focuses on understanding the content of non-numerical data like text, images, audio and video, including common phrases, themes and points of view. \n",
      "Distinct words:  {'text', 'themes', 'on', 'common', 'content', 'the', 'approach', 'is', 'including', 'data', 'focuses', 'like', 'it', 'numerical', 'more', 'video', 'understanding', 'view', 'audio', 'of', 'non', 'qualitative', 'images', 'and', 'points', 'interpretive', 'phrases'} \n",
      "\n"
     ]
    }
   ],
   "source": [
    "#view distinct words/numbers in sentence\n",
    "word_count = []\n",
    "for x in sentences:\n",
    "    uniqueWords = set(re.findall(r'[a-z0-9]+', x))\n",
    "    print(\"Sentence: \", x, \"\\nDistinct words: \", uniqueWords, \"\\n\")\n",
    "    word_count.append(len(uniqueWords))"
   ]
  },
  {
   "cell_type": "code",
   "execution_count": 9,
   "id": "8d1214eb",
   "metadata": {},
   "outputs": [
    {
     "name": "stdout",
     "output_type": "stream",
     "text": [
      "[26, 29, 26, 40, 26, 15, 33, 26, 8, 11, 17, 27]\n"
     ]
    }
   ],
   "source": [
    "print(word_count)"
   ]
  },
  {
   "cell_type": "code",
   "execution_count": 10,
   "id": "473af2ec",
   "metadata": {},
   "outputs": [
    {
     "name": "stdout",
     "output_type": "stream",
     "text": [
      "Shapiro test:  ShapiroResult(statistic=0.9381552338600159, pvalue=0.4745500385761261)\n",
      "Kurtosis test:  -0.6482592729696455\n"
     ]
    },
    {
     "data": {
      "image/png": "[encoded data removed]",
      "text/plain": [
       "<Figure size 640x480 with 1 Axes>"
      ]
     },
     "metadata": {},
     "output_type": "display_data"
    }
   ],
   "source": [
    "#plot word count distribution\n",
    "sns.histplot(word_count, kde=True, bins = len(set(word_count)))\n",
    "print('Shapiro test: ',shapiro(word_count))\n",
    "print('Kurtosis test: ', kurtosis(word_count))"
   ]
  },
  {
   "cell_type": "markdown",
   "id": "2e319cac",
   "metadata": {},
   "source": [
    "The distribution looked a bit flat from the histogram, but after checking kurtosis and running a shapiro test, we can also conclude the distinct word count in each sentence follows a normal distribution"
   ]
  },
  {
   "cell_type": "markdown",
   "id": "d0a9bb3c",
   "metadata": {},
   "source": [
    "## c. What is the probability of the word “analytics” occurring after the word “data”?\n",
    "I'll find the probability by finding the amount of times 'data' occured, and the amount of times 'analytics' occured after it"
   ]
  },
  {
   "cell_type": "code",
   "execution_count": 11,
   "id": "c4f5320f",
   "metadata": {},
   "outputs": [
    {
     "name": "stdout",
     "output_type": "stream",
     "text": [
      "The word 'data' appeared  18  times\n",
      "The words 'data analytics' appeared  6  times\n",
      "The probability of 'analytics' occuring after 'data' is  0.3333333333333333  percent\n"
     ]
    }
   ],
   "source": [
    "dataCount = len(re.findall(r'data', text))\n",
    "print(\"The word 'data' appeared \", dataCount, \" times\")\n",
    "data_analyticsCount = len(re.findall(r'data analytics', text))\n",
    "print(\"The words 'data analytics' appeared \", data_analyticsCount, \" times\")\n",
    "print(\"The probability of 'analytics' occuring after 'data' is \", data_analyticsCount/dataCount, \" percent\")"
   ]
  },
  {
   "cell_type": "code",
   "execution_count": null,
   "id": "7916ee12",
   "metadata": {},
   "outputs": [],
   "source": []
  }
 ],
 "metadata": {
  "kernelspec": {
   "display_name": "Python 3 (ipykernel)",
   "language": "python",
   "name": "python3"
  },
  "language_info": {
   "codemirror_mode": {
    "name": "ipython",
    "version": 3
   },
   "file_extension": ".py",
   "mimetype": "text/x-python",
   "name": "python",
   "nbconvert_exporter": "python",
   "pygments_lexer": "ipython3",
   "version": "3.9.13"
  }
 },
 "nbformat": 4,
 "nbformat_minor": 5
}
